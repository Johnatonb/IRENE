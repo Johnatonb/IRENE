{
  "nbformat": 4,
  "nbformat_minor": 0,
  "metadata": {
    "colab": {
      "name": "Tools.ipynb",
      "version": "0.3.2",
      "provenance": []
    },
    "kernelspec": {
      "name": "python3",
      "display_name": "Python 3"
    }
  },
  "cells": [
    {
      "cell_type": "code",
      "metadata": {
        "id": "Ivm_-Qi1ZkqM",
        "colab_type": "code",
        "colab": {}
      },
      "source": [
        "# Create latex table of model parameters and results\n",
        "\n",
        "import os, json\n",
        "\n",
        "def sorter(x):\n",
        "  return float(x[1][0])\n",
        "\n",
        "results_dir = '/content/drive/My Drive/ML4NR/results'\n",
        "models_dir = '/content/drive/My Drive/ML4NR/models'\n",
        "\n",
        "with open('/content/drive/My Drive/latex_out6000.txt', 'a') as f:\n",
        "  f.write('\\\\begin{longtable}{|l|l|l|l|l|l|l|l|l|l|l|l|}\\n')\n",
        "  f.write('\\\\hline\\n')\n",
        "  f.write('Model & time & pred & conv & conv   & pool & pool   & drop & learn & decay & best & epoch \\\\\\\\\\n')\n",
        "  f.write('name & steps &     & height & width & height & width & rate & rate & rate & MSE & \\\\\\\\ \\\\hline\\n\\\\endhead\\n')\n",
        "  for i in range(6001, 6011):\n",
        "      model_name = 'model'+str(i)\n",
        "      result_dir = os.path.join(results_dir, model_name)\n",
        "      model_dir = os.path.join(models_dir, model_name)\n",
        "      best = 0\n",
        "      epoch = '0'\n",
        "      with open(os.path.join(result_dir, model_name+'_results.json'), 'r') as fp:\n",
        "          results = json.load(fp)\n",
        "      mse_test = results['mse_validation']\n",
        "      sort_test = sorted(mse_test.items(), key=sorter)\n",
        "      best = sort_test[0][1][0]\n",
        "      epoch = sort_test[0][0]\n",
        "      \n",
        "      ts = ''\n",
        "      pred = ''\n",
        "      fh = ''\n",
        "      fw = ''\n",
        "      mph = ''\n",
        "      mpw = ''\n",
        "      drop = ''\n",
        "      lr = ''\n",
        "      dr = ''\n",
        "      with open(os.path.join(model_dir, model_name+'_parameters.txt'), 'r') as fp:\n",
        "        for line in fp:\n",
        "          param, value = line.strip('\\n').split(' : ')\n",
        "          if param.startswith('dropout'):\n",
        "            drop = value\n",
        "          elif param.startswith('max'):\n",
        "            mph, mpw = value.strip('(').strip(')').split(', ')\n",
        "          elif param.startswith('time_steps'):\n",
        "            ts = value\n",
        "          elif param.startswith('predictions'):\n",
        "            pred = value\n",
        "          elif param.startswith('filter_shapes'):\n",
        "            shape = value.strip('[').strip(']').split('), (')[1]\n",
        "            fh, fw = shape.split(', ')\n",
        "          elif param.startswith('learning'):\n",
        "            lr = value\n",
        "          elif param.startswith('decay'):\n",
        "            dr = value\n",
        "      \n",
        "      f.write(model_name +' & '+ts+' & '+pred+' & '+fh+' & '+fw+' & '+mph+' & '+mpw+' & '+drop+' & '+lr+' & '+dr+' & '+ f'{best:.4f}' +' & '+epoch+'\\\\\\\\ \\\\hline\\n')\n",
        "  f.write('\\\\end{longtable}\\n')\n",
        "            \n",
        "          \n",
        "      "
      ],
      "execution_count": 0,
      "outputs": []
    },
    {
      "cell_type": "code",
      "metadata": {
        "id": "Pb5jMascZrHr",
        "colab_type": "code",
        "colab": {}
      },
      "source": [
        "#Create latex table of images in folder\n",
        "import os\n",
        "\n",
        "image_dir = '/content/drive/My Drive/disc_sim_data/train'\n",
        "with open('/content/drive/My Drive/latex_out8.txt', 'a') as f:\n",
        "  f.write('\\\\begin{longtable}{|l|}\\n')\n",
        "  f.write('\\\\hline\\n')\n",
        "  f.write('Testing dataset \\\\\\\\ \\\\hline \\n')\n",
        "  images = sorted(os.listdir(image_dir))\n",
        "  for image in images :\n",
        "    f.write(image + ' \\\\\\\\ \\\\hline \\n')\n",
        "  f.write('\\\\end{longtable}\\n')\n",
        "\n"
      ],
      "execution_count": 0,
      "outputs": []
    }
  ]
}